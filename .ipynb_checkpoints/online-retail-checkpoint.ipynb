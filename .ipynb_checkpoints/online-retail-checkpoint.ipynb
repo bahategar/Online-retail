{
 "cells": [
  {
   "cell_type": "code",
   "execution_count": 525,
   "id": "06d98c81",
   "metadata": {},
   "outputs": [],
   "source": [
    "import numpy as np\n",
    "import pandas as pd\n",
    "import matplotlib.pyplot as plt\n",
    "import seaborn as sns\n",
    "import os\n",
    "\n",
    "from sklearn.preprocessing import StandardScaler\n",
    "from sklearn.cluster import KMeans\n",
    "from sklearn.metrics import silhouette_score\n",
    "from sklearn.preprocessing import StandardScaler"
   ]
  },
  {
   "cell_type": "code",
   "execution_count": 526,
   "id": "c1f268f2",
   "metadata": {},
   "outputs": [
    {
     "data": {
      "text/html": [
       "<div>\n",
       "<style scoped>\n",
       "    .dataframe tbody tr th:only-of-type {\n",
       "        vertical-align: middle;\n",
       "    }\n",
       "\n",
       "    .dataframe tbody tr th {\n",
       "        vertical-align: top;\n",
       "    }\n",
       "\n",
       "    .dataframe thead th {\n",
       "        text-align: right;\n",
       "    }\n",
       "</style>\n",
       "<table border=\"1\" class=\"dataframe\">\n",
       "  <thead>\n",
       "    <tr style=\"text-align: right;\">\n",
       "      <th></th>\n",
       "      <th>InvoiceNo</th>\n",
       "      <th>StockCode</th>\n",
       "      <th>Description</th>\n",
       "      <th>Quantity</th>\n",
       "      <th>InvoiceDate</th>\n",
       "      <th>UnitPrice</th>\n",
       "      <th>CustomerID</th>\n",
       "      <th>Country</th>\n",
       "    </tr>\n",
       "  </thead>\n",
       "  <tbody>\n",
       "    <tr>\n",
       "      <th>0</th>\n",
       "      <td>536365</td>\n",
       "      <td>85123A</td>\n",
       "      <td>WHITE HANGING HEART T-LIGHT HOLDER</td>\n",
       "      <td>6</td>\n",
       "      <td>12/1/2010 8:26</td>\n",
       "      <td>2.55</td>\n",
       "      <td>17850.0</td>\n",
       "      <td>United Kingdom</td>\n",
       "    </tr>\n",
       "    <tr>\n",
       "      <th>1</th>\n",
       "      <td>536365</td>\n",
       "      <td>71053</td>\n",
       "      <td>WHITE METAL LANTERN</td>\n",
       "      <td>6</td>\n",
       "      <td>12/1/2010 8:26</td>\n",
       "      <td>3.39</td>\n",
       "      <td>17850.0</td>\n",
       "      <td>United Kingdom</td>\n",
       "    </tr>\n",
       "    <tr>\n",
       "      <th>2</th>\n",
       "      <td>536365</td>\n",
       "      <td>84406B</td>\n",
       "      <td>CREAM CUPID HEARTS COAT HANGER</td>\n",
       "      <td>8</td>\n",
       "      <td>12/1/2010 8:26</td>\n",
       "      <td>2.75</td>\n",
       "      <td>17850.0</td>\n",
       "      <td>United Kingdom</td>\n",
       "    </tr>\n",
       "    <tr>\n",
       "      <th>3</th>\n",
       "      <td>536365</td>\n",
       "      <td>84029G</td>\n",
       "      <td>KNITTED UNION FLAG HOT WATER BOTTLE</td>\n",
       "      <td>6</td>\n",
       "      <td>12/1/2010 8:26</td>\n",
       "      <td>3.39</td>\n",
       "      <td>17850.0</td>\n",
       "      <td>United Kingdom</td>\n",
       "    </tr>\n",
       "    <tr>\n",
       "      <th>4</th>\n",
       "      <td>536365</td>\n",
       "      <td>84029E</td>\n",
       "      <td>RED WOOLLY HOTTIE WHITE HEART.</td>\n",
       "      <td>6</td>\n",
       "      <td>12/1/2010 8:26</td>\n",
       "      <td>3.39</td>\n",
       "      <td>17850.0</td>\n",
       "      <td>United Kingdom</td>\n",
       "    </tr>\n",
       "  </tbody>\n",
       "</table>\n",
       "</div>"
      ],
      "text/plain": [
       "  InvoiceNo StockCode                          Description  Quantity  \\\n",
       "0    536365    85123A   WHITE HANGING HEART T-LIGHT HOLDER         6   \n",
       "1    536365     71053                  WHITE METAL LANTERN         6   \n",
       "2    536365    84406B       CREAM CUPID HEARTS COAT HANGER         8   \n",
       "3    536365    84029G  KNITTED UNION FLAG HOT WATER BOTTLE         6   \n",
       "4    536365    84029E       RED WOOLLY HOTTIE WHITE HEART.         6   \n",
       "\n",
       "      InvoiceDate  UnitPrice  CustomerID         Country  \n",
       "0  12/1/2010 8:26       2.55     17850.0  United Kingdom  \n",
       "1  12/1/2010 8:26       3.39     17850.0  United Kingdom  \n",
       "2  12/1/2010 8:26       2.75     17850.0  United Kingdom  \n",
       "3  12/1/2010 8:26       3.39     17850.0  United Kingdom  \n",
       "4  12/1/2010 8:26       3.39     17850.0  United Kingdom  "
      ]
     },
     "execution_count": 526,
     "metadata": {},
     "output_type": "execute_result"
    }
   ],
   "source": [
    "# Define the components of the path\n",
    "base_path = '.'  # Represents the current directory\n",
    "relative_path = 'data'\n",
    "file_name = 'Online Retail.csv'\n",
    "\n",
    "full_path = os.path.join(base_path, relative_path, file_name)\n",
    "\n",
    "# Load data\n",
    "df = pd.read_csv(full_path)\n",
    "df.head()"
   ]
  },
  {
   "cell_type": "code",
   "execution_count": 527,
   "id": "2554f3e6",
   "metadata": {},
   "outputs": [
    {
     "name": "stdout",
     "output_type": "stream",
     "text": [
      "<class 'pandas.core.frame.DataFrame'>\n",
      "RangeIndex: 541909 entries, 0 to 541908\n",
      "Data columns (total 8 columns):\n",
      " #   Column       Non-Null Count   Dtype  \n",
      "---  ------       --------------   -----  \n",
      " 0   InvoiceNo    541909 non-null  object \n",
      " 1   StockCode    541909 non-null  object \n",
      " 2   Description  540455 non-null  object \n",
      " 3   Quantity     541909 non-null  int64  \n",
      " 4   InvoiceDate  541909 non-null  object \n",
      " 5   UnitPrice    541909 non-null  float64\n",
      " 6   CustomerID   406829 non-null  float64\n",
      " 7   Country      541909 non-null  object \n",
      "dtypes: float64(2), int64(1), object(5)\n",
      "memory usage: 33.1+ MB\n",
      "None\n"
     ]
    },
    {
     "data": {
      "text/html": [
       "<div>\n",
       "<style scoped>\n",
       "    .dataframe tbody tr th:only-of-type {\n",
       "        vertical-align: middle;\n",
       "    }\n",
       "\n",
       "    .dataframe tbody tr th {\n",
       "        vertical-align: top;\n",
       "    }\n",
       "\n",
       "    .dataframe thead th {\n",
       "        text-align: right;\n",
       "    }\n",
       "</style>\n",
       "<table border=\"1\" class=\"dataframe\">\n",
       "  <thead>\n",
       "    <tr style=\"text-align: right;\">\n",
       "      <th></th>\n",
       "      <th>InvoiceNo</th>\n",
       "      <th>StockCode</th>\n",
       "      <th>Description</th>\n",
       "      <th>Quantity</th>\n",
       "      <th>InvoiceDate</th>\n",
       "      <th>UnitPrice</th>\n",
       "      <th>CustomerID</th>\n",
       "      <th>Country</th>\n",
       "    </tr>\n",
       "  </thead>\n",
       "  <tbody>\n",
       "    <tr>\n",
       "      <th>0</th>\n",
       "      <td>536365</td>\n",
       "      <td>85123A</td>\n",
       "      <td>WHITE HANGING HEART T-LIGHT HOLDER</td>\n",
       "      <td>6</td>\n",
       "      <td>12/1/2010 8:26</td>\n",
       "      <td>2.55</td>\n",
       "      <td>17850.0</td>\n",
       "      <td>United Kingdom</td>\n",
       "    </tr>\n",
       "    <tr>\n",
       "      <th>1</th>\n",
       "      <td>536365</td>\n",
       "      <td>71053</td>\n",
       "      <td>WHITE METAL LANTERN</td>\n",
       "      <td>6</td>\n",
       "      <td>12/1/2010 8:26</td>\n",
       "      <td>3.39</td>\n",
       "      <td>17850.0</td>\n",
       "      <td>United Kingdom</td>\n",
       "    </tr>\n",
       "    <tr>\n",
       "      <th>2</th>\n",
       "      <td>536365</td>\n",
       "      <td>84406B</td>\n",
       "      <td>CREAM CUPID HEARTS COAT HANGER</td>\n",
       "      <td>8</td>\n",
       "      <td>12/1/2010 8:26</td>\n",
       "      <td>2.75</td>\n",
       "      <td>17850.0</td>\n",
       "      <td>United Kingdom</td>\n",
       "    </tr>\n",
       "    <tr>\n",
       "      <th>3</th>\n",
       "      <td>536365</td>\n",
       "      <td>84029G</td>\n",
       "      <td>KNITTED UNION FLAG HOT WATER BOTTLE</td>\n",
       "      <td>6</td>\n",
       "      <td>12/1/2010 8:26</td>\n",
       "      <td>3.39</td>\n",
       "      <td>17850.0</td>\n",
       "      <td>United Kingdom</td>\n",
       "    </tr>\n",
       "    <tr>\n",
       "      <th>4</th>\n",
       "      <td>536365</td>\n",
       "      <td>84029E</td>\n",
       "      <td>RED WOOLLY HOTTIE WHITE HEART.</td>\n",
       "      <td>6</td>\n",
       "      <td>12/1/2010 8:26</td>\n",
       "      <td>3.39</td>\n",
       "      <td>17850.0</td>\n",
       "      <td>United Kingdom</td>\n",
       "    </tr>\n",
       "  </tbody>\n",
       "</table>\n",
       "</div>"
      ],
      "text/plain": [
       "  InvoiceNo StockCode                          Description  Quantity  \\\n",
       "0    536365    85123A   WHITE HANGING HEART T-LIGHT HOLDER         6   \n",
       "1    536365     71053                  WHITE METAL LANTERN         6   \n",
       "2    536365    84406B       CREAM CUPID HEARTS COAT HANGER         8   \n",
       "3    536365    84029G  KNITTED UNION FLAG HOT WATER BOTTLE         6   \n",
       "4    536365    84029E       RED WOOLLY HOTTIE WHITE HEART.         6   \n",
       "\n",
       "      InvoiceDate  UnitPrice  CustomerID         Country  \n",
       "0  12/1/2010 8:26       2.55     17850.0  United Kingdom  \n",
       "1  12/1/2010 8:26       3.39     17850.0  United Kingdom  \n",
       "2  12/1/2010 8:26       2.75     17850.0  United Kingdom  \n",
       "3  12/1/2010 8:26       3.39     17850.0  United Kingdom  \n",
       "4  12/1/2010 8:26       3.39     17850.0  United Kingdom  "
      ]
     },
     "execution_count": 527,
     "metadata": {},
     "output_type": "execute_result"
    }
   ],
   "source": [
    "# Analyze data\n",
    "print(df.info())\n",
    "\n",
    "df.head()"
   ]
  },
  {
   "cell_type": "code",
   "execution_count": 528,
   "id": "4e7b856e",
   "metadata": {},
   "outputs": [
    {
     "data": {
      "text/plain": [
       "InvoiceNo     25900\n",
       "CustomerID     4372\n",
       "StockCode      4070\n",
       "dtype: int64"
      ]
     },
     "execution_count": 528,
     "metadata": {},
     "output_type": "execute_result"
    }
   ],
   "source": [
    "# Unique data of ID fields\n",
    "\n",
    "df[['InvoiceNo', 'StockCode', 'CustomerID']].nunique().sort_values(ascending=False)"
   ]
  },
  {
   "cell_type": "code",
   "execution_count": 529,
   "id": "472ff9c9",
   "metadata": {},
   "outputs": [
    {
     "name": "stdout",
     "output_type": "stream",
     "text": [
      "CustomerID     24.927\n",
      "Description     0.268\n",
      "InvoiceNo       0.000\n",
      "StockCode       0.000\n",
      "Quantity        0.000\n",
      "InvoiceDate     0.000\n",
      "UnitPrice       0.000\n",
      "Country         0.000\n",
      "dtype: float64\n"
     ]
    }
   ],
   "source": [
    "# Check missing value\n",
    "print(\n",
    "    round(\n",
    "        df.isnull().sum()/df.shape[0]*100, 3)\n",
    "        .sort_values(ascending=False)\n",
    ")"
   ]
  },
  {
   "cell_type": "markdown",
   "id": "b45c4095",
   "metadata": {},
   "source": [
    "NOTES:\n",
    "- Customer ID is difficult to guessed, Since our goals is to built cohort analysis and applied customer segmentation. It is better if we remove the customer ID to reduce bias.\n",
    "\n",
    "- According to the data's field. Numerical field: 'Quantity' and 'UnitPrice', Date field: 'InvoiceDate', Id field: 'InvoiceNo', 'StockCode', and 'CustomerID', Text field: 'Description', and Categorical field: 'Country'"
   ]
  },
  {
   "cell_type": "code",
   "execution_count": 530,
   "id": "b0221f19",
   "metadata": {},
   "outputs": [
    {
     "name": "stdout",
     "output_type": "stream",
     "text": [
      "<class 'pandas.core.frame.DataFrame'>\n",
      "Int64Index: 406829 entries, 0 to 541908\n",
      "Data columns (total 8 columns):\n",
      " #   Column       Non-Null Count   Dtype  \n",
      "---  ------       --------------   -----  \n",
      " 0   InvoiceNo    406829 non-null  object \n",
      " 1   StockCode    406829 non-null  object \n",
      " 2   Description  406829 non-null  object \n",
      " 3   Quantity     406829 non-null  int64  \n",
      " 4   InvoiceDate  406829 non-null  object \n",
      " 5   UnitPrice    406829 non-null  float64\n",
      " 6   CustomerID   406829 non-null  float64\n",
      " 7   Country      406829 non-null  object \n",
      "dtypes: float64(2), int64(1), object(5)\n",
      "memory usage: 27.9+ MB\n"
     ]
    }
   ],
   "source": [
    "df = df.dropna(subset=['Description', 'CustomerID'])\n",
    "\n",
    "df.info()"
   ]
  },
  {
   "cell_type": "code",
   "execution_count": 531,
   "id": "96dc6a7e",
   "metadata": {},
   "outputs": [
    {
     "data": {
      "text/html": [
       "<div>\n",
       "<style scoped>\n",
       "    .dataframe tbody tr th:only-of-type {\n",
       "        vertical-align: middle;\n",
       "    }\n",
       "\n",
       "    .dataframe tbody tr th {\n",
       "        vertical-align: top;\n",
       "    }\n",
       "\n",
       "    .dataframe thead th {\n",
       "        text-align: right;\n",
       "    }\n",
       "</style>\n",
       "<table border=\"1\" class=\"dataframe\">\n",
       "  <thead>\n",
       "    <tr style=\"text-align: right;\">\n",
       "      <th></th>\n",
       "      <th>Quantity</th>\n",
       "      <th>UnitPrice</th>\n",
       "    </tr>\n",
       "  </thead>\n",
       "  <tbody>\n",
       "    <tr>\n",
       "      <th>count</th>\n",
       "      <td>406829.000000</td>\n",
       "      <td>406829.000000</td>\n",
       "    </tr>\n",
       "    <tr>\n",
       "      <th>mean</th>\n",
       "      <td>12.061303</td>\n",
       "      <td>3.460471</td>\n",
       "    </tr>\n",
       "    <tr>\n",
       "      <th>std</th>\n",
       "      <td>248.693370</td>\n",
       "      <td>69.315162</td>\n",
       "    </tr>\n",
       "    <tr>\n",
       "      <th>min</th>\n",
       "      <td>-80995.000000</td>\n",
       "      <td>0.000000</td>\n",
       "    </tr>\n",
       "    <tr>\n",
       "      <th>25%</th>\n",
       "      <td>2.000000</td>\n",
       "      <td>1.250000</td>\n",
       "    </tr>\n",
       "    <tr>\n",
       "      <th>50%</th>\n",
       "      <td>5.000000</td>\n",
       "      <td>1.950000</td>\n",
       "    </tr>\n",
       "    <tr>\n",
       "      <th>75%</th>\n",
       "      <td>12.000000</td>\n",
       "      <td>3.750000</td>\n",
       "    </tr>\n",
       "    <tr>\n",
       "      <th>max</th>\n",
       "      <td>80995.000000</td>\n",
       "      <td>38970.000000</td>\n",
       "    </tr>\n",
       "  </tbody>\n",
       "</table>\n",
       "</div>"
      ],
      "text/plain": [
       "            Quantity      UnitPrice\n",
       "count  406829.000000  406829.000000\n",
       "mean       12.061303       3.460471\n",
       "std       248.693370      69.315162\n",
       "min    -80995.000000       0.000000\n",
       "25%         2.000000       1.250000\n",
       "50%         5.000000       1.950000\n",
       "75%        12.000000       3.750000\n",
       "max     80995.000000   38970.000000"
      ]
     },
     "execution_count": 531,
     "metadata": {},
     "output_type": "execute_result"
    }
   ],
   "source": [
    "# EDA Numerical Data\n",
    "\n",
    "df[['Quantity', 'UnitPrice']].describe()"
   ]
  },
  {
   "cell_type": "code",
   "execution_count": 532,
   "id": "effb70d1",
   "metadata": {},
   "outputs": [
    {
     "data": {
      "image/png": "[encoded data removed]",
      "text/plain": [
       "<Figure size 1500x500 with 2 Axes>"
      ]
     },
     "metadata": {},
     "output_type": "display_data"
    }
   ],
   "source": [
    "fig, axes = plt.subplots(1, 2, figsize=(15, 5))\n",
    "\n",
    "\n",
    "# Plot Distribution\n",
    "def plot_hist(field, ax, n=30,):\n",
    "    ax.hist(df[f'{field}'], bins=n, color='skyblue', edgecolor='black')\n",
    "    ax.set_title(f'Histogram of {field}')\n",
    "    ax.set_xlabel(f'{field}')\n",
    "    ax.set_ylabel('Frequency')\n",
    "    ax.set_xlim(min(df[f'{field}']), max(df[f'{field}']))\n",
    "    ax.grid(True)\n",
    "\n",
    "plot_hist('Quantity', ax=axes[0])\n",
    "plot_hist('UnitPrice', ax=axes[1])\n",
    "plt.show()\n"
   ]
  },
  {
   "cell_type": "code",
   "execution_count": 533,
   "id": "e34104a8",
   "metadata": {},
   "outputs": [
    {
     "data": {
      "image/png": "[encoded data removed]",
      "text/plain": [
       "<Figure size 640x480 with 1 Axes>"
      ]
     },
     "metadata": {},
     "output_type": "display_data"
    },
    {
     "data": {
      "image/png": "[encoded data removed]",
      "text/plain": [
       "<Figure size 640x480 with 1 Axes>"
      ]
     },
     "metadata": {},
     "output_type": "display_data"
    }
   ],
   "source": [
    "def boxplot(field):\n",
    "    df[f'{field}'].plot.box(showfliers=False, grid=True)\n",
    "    plt.ylabel(f'{field}')\n",
    "    plt.title(f'{field} Distributions')\n",
    "    plt.show()\n",
    "\n",
    "boxplot('Quantity')\n",
    "boxplot('UnitPrice')"
   ]
  },
  {
   "cell_type": "code",
   "execution_count": 534,
   "id": "5fb5e44d",
   "metadata": {},
   "outputs": [
    {
     "name": "stdout",
     "output_type": "stream",
     "text": [
      "The data consist of 8905 rows of data with item quantity less/equal than zero.\n",
      "About 2.19% of total data\n",
      "\n",
      "The data consist of 40 rows of data with unit price equal to zero.\n",
      "About 0.01% of total data\n"
     ]
    }
   ],
   "source": [
    "# Detect Anomali\n",
    "quantity_zero = len(df[df[\"Quantity\"] <= 0])\n",
    "perc_quantity_zero = quantity_zero/df.shape[0] * 100\n",
    "unitprice_zero = len(df[df[\"UnitPrice\"] == 0])\n",
    "perc_unitprice_zero = unitprice_zero/df.shape[0] * 100\n",
    "\n",
    "\n",
    "print(\"The data consist of\", str(quantity_zero), \"rows of data with item quantity less/equal than zero.\")\n",
    "print(\"About {:.2f}% of total data\".format(perc_quantity_zero))\n",
    "print(\"\")\n",
    "print(\"The data consist of\", str(unitprice_zero), \"rows of data with unit price equal to zero.\")\n",
    "print(\"About {:.2f}% of total data\".format(perc_unitprice_zero))"
   ]
  },
  {
   "cell_type": "code",
   "execution_count": 535,
   "id": "2ed758a0",
   "metadata": {},
   "outputs": [
    {
     "data": {
      "text/html": [
       "<div>\n",
       "<style scoped>\n",
       "    .dataframe tbody tr th:only-of-type {\n",
       "        vertical-align: middle;\n",
       "    }\n",
       "\n",
       "    .dataframe tbody tr th {\n",
       "        vertical-align: top;\n",
       "    }\n",
       "\n",
       "    .dataframe thead th {\n",
       "        text-align: right;\n",
       "    }\n",
       "</style>\n",
       "<table border=\"1\" class=\"dataframe\">\n",
       "  <thead>\n",
       "    <tr style=\"text-align: right;\">\n",
       "      <th></th>\n",
       "      <th>Quantity</th>\n",
       "      <th>UnitPrice</th>\n",
       "    </tr>\n",
       "  </thead>\n",
       "  <tbody>\n",
       "    <tr>\n",
       "      <th>count</th>\n",
       "      <td>397884.000000</td>\n",
       "      <td>397884.000000</td>\n",
       "    </tr>\n",
       "    <tr>\n",
       "      <th>mean</th>\n",
       "      <td>12.988238</td>\n",
       "      <td>3.116488</td>\n",
       "    </tr>\n",
       "    <tr>\n",
       "      <th>std</th>\n",
       "      <td>179.331775</td>\n",
       "      <td>22.097877</td>\n",
       "    </tr>\n",
       "    <tr>\n",
       "      <th>min</th>\n",
       "      <td>1.000000</td>\n",
       "      <td>0.001000</td>\n",
       "    </tr>\n",
       "    <tr>\n",
       "      <th>25%</th>\n",
       "      <td>2.000000</td>\n",
       "      <td>1.250000</td>\n",
       "    </tr>\n",
       "    <tr>\n",
       "      <th>50%</th>\n",
       "      <td>6.000000</td>\n",
       "      <td>1.950000</td>\n",
       "    </tr>\n",
       "    <tr>\n",
       "      <th>75%</th>\n",
       "      <td>12.000000</td>\n",
       "      <td>3.750000</td>\n",
       "    </tr>\n",
       "    <tr>\n",
       "      <th>max</th>\n",
       "      <td>80995.000000</td>\n",
       "      <td>8142.750000</td>\n",
       "    </tr>\n",
       "  </tbody>\n",
       "</table>\n",
       "</div>"
      ],
      "text/plain": [
       "            Quantity      UnitPrice\n",
       "count  397884.000000  397884.000000\n",
       "mean       12.988238       3.116488\n",
       "std       179.331775      22.097877\n",
       "min         1.000000       0.001000\n",
       "25%         2.000000       1.250000\n",
       "50%         6.000000       1.950000\n",
       "75%        12.000000       3.750000\n",
       "max     80995.000000    8142.750000"
      ]
     },
     "execution_count": 535,
     "metadata": {},
     "output_type": "execute_result"
    }
   ],
   "source": [
    "# Remove anomali\n",
    "df = df[(df[\"Quantity\"] > 0) & (df[\"UnitPrice\"] > 0)]\n",
    "\n",
    "df[[\"Quantity\", \"UnitPrice\"]].describe()"
   ]
  },
  {
   "cell_type": "code",
   "execution_count": 536,
   "id": "53b45554",
   "metadata": {},
   "outputs": [
    {
     "data": {
      "text/html": [
       "<div>\n",
       "<style scoped>\n",
       "    .dataframe tbody tr th:only-of-type {\n",
       "        vertical-align: middle;\n",
       "    }\n",
       "\n",
       "    .dataframe tbody tr th {\n",
       "        vertical-align: top;\n",
       "    }\n",
       "\n",
       "    .dataframe thead th {\n",
       "        text-align: right;\n",
       "    }\n",
       "</style>\n",
       "<table border=\"1\" class=\"dataframe\">\n",
       "  <thead>\n",
       "    <tr style=\"text-align: right;\">\n",
       "      <th></th>\n",
       "      <th>InvoiceNo</th>\n",
       "      <th>StockCode</th>\n",
       "      <th>Description</th>\n",
       "      <th>Quantity</th>\n",
       "      <th>InvoiceDate</th>\n",
       "      <th>UnitPrice</th>\n",
       "      <th>CustomerID</th>\n",
       "      <th>Country</th>\n",
       "    </tr>\n",
       "  </thead>\n",
       "  <tbody>\n",
       "    <tr>\n",
       "      <th>0</th>\n",
       "      <td>536365</td>\n",
       "      <td>85123A</td>\n",
       "      <td>WHITE HANGING HEART T-LIGHT HOLDER</td>\n",
       "      <td>6</td>\n",
       "      <td>2010-12-01 08:26</td>\n",
       "      <td>2.55</td>\n",
       "      <td>17850.0</td>\n",
       "      <td>United Kingdom</td>\n",
       "    </tr>\n",
       "    <tr>\n",
       "      <th>1</th>\n",
       "      <td>536365</td>\n",
       "      <td>71053</td>\n",
       "      <td>WHITE METAL LANTERN</td>\n",
       "      <td>6</td>\n",
       "      <td>2010-12-01 08:26</td>\n",
       "      <td>3.39</td>\n",
       "      <td>17850.0</td>\n",
       "      <td>United Kingdom</td>\n",
       "    </tr>\n",
       "    <tr>\n",
       "      <th>2</th>\n",
       "      <td>536365</td>\n",
       "      <td>84406B</td>\n",
       "      <td>CREAM CUPID HEARTS COAT HANGER</td>\n",
       "      <td>8</td>\n",
       "      <td>2010-12-01 08:26</td>\n",
       "      <td>2.75</td>\n",
       "      <td>17850.0</td>\n",
       "      <td>United Kingdom</td>\n",
       "    </tr>\n",
       "    <tr>\n",
       "      <th>3</th>\n",
       "      <td>536365</td>\n",
       "      <td>84029G</td>\n",
       "      <td>KNITTED UNION FLAG HOT WATER BOTTLE</td>\n",
       "      <td>6</td>\n",
       "      <td>2010-12-01 08:26</td>\n",
       "      <td>3.39</td>\n",
       "      <td>17850.0</td>\n",
       "      <td>United Kingdom</td>\n",
       "    </tr>\n",
       "    <tr>\n",
       "      <th>4</th>\n",
       "      <td>536365</td>\n",
       "      <td>84029E</td>\n",
       "      <td>RED WOOLLY HOTTIE WHITE HEART.</td>\n",
       "      <td>6</td>\n",
       "      <td>2010-12-01 08:26</td>\n",
       "      <td>3.39</td>\n",
       "      <td>17850.0</td>\n",
       "      <td>United Kingdom</td>\n",
       "    </tr>\n",
       "  </tbody>\n",
       "</table>\n",
       "</div>"
      ],
      "text/plain": [
       "  InvoiceNo StockCode                          Description  Quantity  \\\n",
       "0    536365    85123A   WHITE HANGING HEART T-LIGHT HOLDER         6   \n",
       "1    536365     71053                  WHITE METAL LANTERN         6   \n",
       "2    536365    84406B       CREAM CUPID HEARTS COAT HANGER         8   \n",
       "3    536365    84029G  KNITTED UNION FLAG HOT WATER BOTTLE         6   \n",
       "4    536365    84029E       RED WOOLLY HOTTIE WHITE HEART.         6   \n",
       "\n",
       "        InvoiceDate  UnitPrice  CustomerID         Country  \n",
       "0  2010-12-01 08:26       2.55     17850.0  United Kingdom  \n",
       "1  2010-12-01 08:26       3.39     17850.0  United Kingdom  \n",
       "2  2010-12-01 08:26       2.75     17850.0  United Kingdom  \n",
       "3  2010-12-01 08:26       3.39     17850.0  United Kingdom  \n",
       "4  2010-12-01 08:26       3.39     17850.0  United Kingdom  "
      ]
     },
     "execution_count": 536,
     "metadata": {},
     "output_type": "execute_result"
    }
   ],
   "source": [
    "# Format date\n",
    "\n",
    "df['InvoiceDate'] = pd.to_datetime(df['InvoiceDate'], format='%m/%d/%Y %H:%M').dt.strftime(\"%Y-%m-%d %H:%M\")\n",
    "df.head()"
   ]
  },
  {
   "cell_type": "code",
   "execution_count": 537,
   "id": "79aa6deb",
   "metadata": {},
   "outputs": [
    {
     "ename": "NameError",
     "evalue": "name 'asda' is not defined",
     "output_type": "error",
     "traceback": [
      "\u001b[1;31m---------------------------------------------------------------------------\u001b[0m",
      "\u001b[1;31mNameError\u001b[0m                                 Traceback (most recent call last)",
      "Cell \u001b[1;32mIn[537], line 1\u001b[0m\n\u001b[1;32m----> 1\u001b[0m asda\n",
      "\u001b[1;31mNameError\u001b[0m: name 'asda' is not defined"
     ]
    }
   ],
   "source": [
    "asda"
   ]
  },
  {
   "cell_type": "code",
   "execution_count": null,
   "id": "ab79001d",
   "metadata": {},
   "outputs": [],
   "source": [
    "df = df.reset_index(drop=True)\n",
    "df.to_csv('./result/online-retail-clean.csv', index_label='main_idx')"
   ]
  },
  {
   "cell_type": "markdown",
   "id": "7febf56e",
   "metadata": {},
   "source": [
    "# Time Series Analysis"
   ]
  },
  {
   "cell_type": "code",
   "execution_count": null,
   "id": "a48ccd83",
   "metadata": {
    "scrolled": true
   },
   "outputs": [],
   "source": [
    "# Time Series\n",
    "df['InvoiceDate'] = pd.to_datetime(df['InvoiceDate'])\n",
    "df_monthly_orders = df[['InvoiceNo', 'InvoiceDate']]\\\n",
    "                    .set_index('InvoiceDate')\\\n",
    "                    .resample('M')\\\n",
    "                    .nunique()\n",
    "\n",
    "\n",
    "df_monthly_orders.plot(grid=True, marker='o', legend=False)\n",
    "plt.ylabel('Number of orders')\n",
    "plt.show()"
   ]
  },
  {
   "cell_type": "code",
   "execution_count": null,
   "id": "034fa804",
   "metadata": {},
   "outputs": [],
   "source": [
    "# Ensure the all data recorded is for the month that has passed\n",
    "invoice_dec = df.loc[df['InvoiceDate'] >= '2011-12-01', 'InvoiceDate']\n",
    "print(f'Min date: {invoice_dec.min()} \\nMax date: {invoice_dec.max()}')"
   ]
  },
  {
   "cell_type": "code",
   "execution_count": null,
   "id": "7b8a61a1",
   "metadata": {},
   "outputs": [],
   "source": [
    "# Filter data\n",
    "df = df.loc[df['InvoiceDate'] < '2011-12-01']\n",
    "\n",
    "# Time Series\n",
    "df_monthly_orders = df[['InvoiceNo', 'InvoiceDate']]\\\n",
    "                    .set_index('InvoiceDate')\\\n",
    "                    .resample('M')\\\n",
    "                    .nunique()\n",
    "\n",
    "\n",
    "df_monthly_orders.plot(grid=True, marker='o', legend=False, figsize=(7, 5))\n",
    "plt.ylabel('Number of orders')\n",
    "plt.xlabel('Date')\n",
    "plt.show()"
   ]
  },
  {
   "cell_type": "code",
   "execution_count": null,
   "id": "6ea06e4c",
   "metadata": {},
   "outputs": [],
   "source": [
    "df['TotalSales'] = df['Quantity'] * df['UnitPrice']\n",
    "\n",
    "df_monthly_sales = df[['TotalSales', 'InvoiceDate']]\\\n",
    "                    .set_index('InvoiceDate')\\\n",
    "                    .resample('M')\\\n",
    "                    .sum()\n",
    "\n",
    "df_monthly_sales.plot(grid=True, legend=False, marker='o', figsize=(7, 5))\n",
    "plt.ylabel('Total sales (In Billion)')\n",
    "plt.xlabel('Date')\n",
    "plt.show()"
   ]
  },
  {
   "cell_type": "markdown",
   "id": "0d53621c",
   "metadata": {},
   "source": [
    "# Repeat Customer and Purchase Rate"
   ]
  },
  {
   "cell_type": "markdown",
   "id": "15527e17",
   "metadata": {},
   "source": [
    "It focuses on customers with more than one invoice in a single month, thus identifying repeat customers based on the frequency of their transactions within the same month."
   ]
  },
  {
   "cell_type": "code",
   "execution_count": null,
   "id": "8e81bdb1",
   "metadata": {},
   "outputs": [],
   "source": [
    "# Repeat Customer Rate\n",
    "\n",
    "# First groupby the data according its InvoiceNo and InvoiceDate.\n",
    "# The aggregations are sum of sales, max CustomerID and country (only select the maximum ones). \n",
    "df_invoice_customers = df.groupby(by=['InvoiceNo', 'InvoiceDate'])\\\n",
    "                    .agg({'TotalSales': sum,'CustomerID': max, 'Country': max,})\\\n",
    "                    .reset_index()\n",
    "\n",
    "# Second we can groupby the df_invoice_customers on the CustomerID, \n",
    "# then we select the customer who purchase more than 1 in each month\n",
    "monthly_repeat_customers = df_invoice_customers\\\n",
    "                            .set_index('InvoiceDate')\\\n",
    "                            .groupby([ pd.Grouper(freq='M'), 'CustomerID'])\\\n",
    "                            .filter(lambda x: len(x) > 1)\\\n",
    "                            .resample('M')\\\n",
    "                            .nunique()['CustomerID']\n",
    "\n",
    "monthly_repeat_customers"
   ]
  },
  {
   "cell_type": "code",
   "execution_count": null,
   "id": "eee44fc7",
   "metadata": {},
   "outputs": [],
   "source": [
    "# Third, we select all the customer in each month.\n",
    "monthly_unique_customers = df.set_index('InvoiceDate')['CustomerID'].resample('M').nunique()\n",
    "\n",
    "monthly_unique_customers"
   ]
  },
  {
   "cell_type": "code",
   "execution_count": null,
   "id": "a8c801ea",
   "metadata": {},
   "outputs": [],
   "source": [
    "# Last, we calculate the percentage of customer who made transactions more than one and total customers in each month.\n",
    "monthly_repeat_percentage = (monthly_repeat_customers / monthly_unique_customers) * 100.0\n",
    "monthly_repeat_percentage"
   ]
  },
  {
   "cell_type": "code",
   "execution_count": null,
   "id": "ef949c79",
   "metadata": {},
   "outputs": [],
   "source": [
    "# The first frame (Will plot the time series of number of customer each month)\n",
    "ax = pd.DataFrame(monthly_repeat_customers.values).plot(\n",
    "    figsize=(10,7)\n",
    ")\n",
    "\n",
    "pd.DataFrame(monthly_unique_customers.values).plot(\n",
    "    ax=ax,\n",
    "    grid=True\n",
    ")\n",
    "\n",
    "ax.set_xlabel('Date')\n",
    "ax.set_ylabel('Number of customers')\n",
    "ax.set_title('Number of All vs. Repeat Customers Over Time')\n",
    "ax.set_ylim([0, monthly_unique_customers.values.max()+100])\n",
    "\n",
    "\n",
    "# The second frame (Will plot Repeat Customer Rate)\n",
    "ax2 = pd.DataFrame(monthly_repeat_percentage.values).plot.bar(\n",
    "    ax=ax,\n",
    "    grid=True,\n",
    "    secondary_y=True,\n",
    "    color='green',\n",
    "    alpha=0.2\n",
    ")\n",
    "\n",
    "ax2.set_ylabel('Percentage (%)')\n",
    "ax.legend(['Repeat Customers', 'All Customers'])\n",
    "ax2.legend(['Percentage of Repeat'], loc='upper right')\n",
    "ax2.set_ylim([0, 100])\n",
    "\n",
    "plt.xticks(\n",
    "    range(len(monthly_repeat_customers.index)), \n",
    "    [x.strftime('%m.%Y') for x in monthly_repeat_customers.index], \n",
    "    rotation=45\n",
    ")\n",
    "\n",
    "plt.show()"
   ]
  },
  {
   "cell_type": "code",
   "execution_count": null,
   "id": "be96aa6a",
   "metadata": {},
   "outputs": [],
   "source": [
    "# df_repeat_customer = monthly_repeat_customers.reset_index()\n",
    "df_repeat_customer = pd.merge(monthly_unique_customers, monthly_repeat_customers, right_index=True, left_index=True)\n",
    "df_repeat_customer = df_repeat_customer.join(monthly_repeat_percentage)\n",
    "df_repeat_customer.reset_index(inplace=True)\n",
    "df_repeat_customer.columns = ['date', 'count_customers', 'count_repeat_customers', 'repeat_customer_rate']\n",
    "# df_repeat_customer.to_csv('repeat-customer.csv', index=False)\n",
    "df_repeat_customer"
   ]
  },
  {
   "cell_type": "code",
   "execution_count": null,
   "id": "52c5a34d",
   "metadata": {},
   "outputs": [],
   "source": [
    "# Repeat Purchase Rate\n",
    "\n",
    "# First calculate total purchase from repeat customers each month.\n",
    "monthly_rev_repeat_customers = df_invoice_customers\\\n",
    "                                .set_index('InvoiceDate')\\\n",
    "                                .groupby([pd.Grouper(freq='M'), 'CustomerID'])\\\n",
    "                                .filter(lambda x: len(x) > 1)\\\n",
    "                                .resample('M')\\\n",
    "                                .agg({\"TotalSales\":'sum'})['TotalSales']\n",
    "\n",
    "monthly_rev_repeat_customers"
   ]
  },
  {
   "cell_type": "code",
   "execution_count": null,
   "id": "b6e9267c",
   "metadata": {},
   "outputs": [],
   "source": [
    "# Second calculate monthly total sales\n",
    "monthly_sales = df.set_index('InvoiceDate')['TotalSales'].resample('M').sum()\n",
    "monthly_sales"
   ]
  },
  {
   "cell_type": "code",
   "execution_count": null,
   "id": "a64f5a8e",
   "metadata": {},
   "outputs": [],
   "source": [
    "# Third calculate Repeat Purchase Rate\n",
    "monthly_rev_perc_repeat_customers = (monthly_rev_repeat_customers / monthly_sales) * 100.0\n",
    "monthly_rev_perc_repeat_customers"
   ]
  },
  {
   "cell_type": "code",
   "execution_count": null,
   "id": "45a238fd",
   "metadata": {},
   "outputs": [],
   "source": [
    "df_repeat_purchase = pd.merge(monthly_sales, monthly_rev_repeat_customers, right_index=True, left_index=True)\n",
    "df_repeat_purchase = df_repeat_purchase.join(monthly_rev_perc_repeat_customers)\n",
    "df_repeat_purchase.reset_index(inplace=True)\n",
    "df_repeat_purchase.columns = ['date', 'total_sales', 'total_repeat_sales', 'repeat_purchase_rate']\n",
    "# df_repeat_purchase.to_csv('repeat-purchase.csv', index=False)\n",
    "df_repeat_purchase"
   ]
  },
  {
   "cell_type": "code",
   "execution_count": null,
   "id": "1ff4680b",
   "metadata": {},
   "outputs": [],
   "source": [
    "# The first frame (Will plot the time series of total sales each month)\n",
    "ax = pd.DataFrame(df_monthly_sales.values).plot(figsize=(15,10))\n",
    "\n",
    "pd.DataFrame(monthly_rev_repeat_customers.values).plot(\n",
    "    ax=ax,\n",
    "    grid=True,\n",
    ")\n",
    "\n",
    "ax.set_xlabel('Date')\n",
    "ax.set_ylabel('Total Sales')\n",
    "ax.set_title('Total Sales All Customers vs. Total Sales from Repeat Customers')\n",
    "ax.legend(['Total Sales', 'Repeat Customer Total Sales'], loc='upper left')\n",
    "ax.set_ylim([0, max(df_monthly_sales.values)+100000])\n",
    "\n",
    "# The second frame (Will plot Repeat Purchase Rate)\n",
    "ax2 = ax.twinx()\n",
    "\n",
    "pd.DataFrame(monthly_rev_perc_repeat_customers.values).plot(\n",
    "    ax=ax2,\n",
    "    kind='bar',\n",
    "    color='g',\n",
    "    alpha=0.2\n",
    ")\n",
    "\n",
    "ax2.set_ylim([0, max(monthly_rev_perc_repeat_customers.values)+30])\n",
    "ax2.set_ylabel('Percentage (%)')\n",
    "ax2.legend(['Repeat Revenue Percentage'], loc='upper right')\n",
    "\n",
    "plt.xticks(\n",
    "    range(len(monthly_rev_perc_repeat_customers.index)), \n",
    "    [x.strftime('%m.%Y') for x in monthly_rev_perc_repeat_customers.index], \n",
    ")\n",
    "\n",
    "plt.show()"
   ]
  },
  {
   "cell_type": "code",
   "execution_count": null,
   "id": "2eae64d6",
   "metadata": {},
   "outputs": [],
   "source": [
    "# Let's visualize some top products from the whole range.\n",
    "top_products = df['Description'].value_counts()[:20]\n",
    "plt.figure(figsize=(10,6))\n",
    "sns.set_context(\"paper\", font_scale=1.5)\n",
    "sns.barplot(y = top_products.index,\n",
    "            x = top_products.values)\n",
    "plt.title(\"Top selling products\")\n",
    "plt.show();"
   ]
  },
  {
   "cell_type": "code",
   "execution_count": null,
   "id": "dadbea89",
   "metadata": {},
   "outputs": [],
   "source": [
    "# Let's visualize some Least selling products from the whole range.\n",
    "least_products = df['Description'].value_counts().sort_values(ascending=True)[:20]\n",
    "plt.figure(figsize=(10,6))\n",
    "sns.set_context(\"paper\", font_scale=1.5)\n",
    "sns.barplot(y = least_products.index,\n",
    "            x = least_products.values)\n",
    "plt.title(\"Least selling products\")\n",
    "plt.show();"
   ]
  },
  {
   "cell_type": "code",
   "execution_count": null,
   "id": "02f4fe95",
   "metadata": {},
   "outputs": [],
   "source": [
    "fig, ax = plt.subplots(figsize=(15,10))\n",
    "sns.barplot(y = 'Country', x = 'CustomerID', data=df, estimator=np.count_nonzero, ax=ax)\n",
    "plt.show()"
   ]
  },
  {
   "cell_type": "code",
   "execution_count": null,
   "id": "571cbdc0",
   "metadata": {},
   "outputs": [],
   "source": [
    "df['Country_isUK'] = np.where(df['Country'] == 'United Kingdom', 'UK', 'Non UK')\n",
    "\n",
    "customers_origin = df.groupby(['Country_isUK']).size()\n",
    "\n",
    "plt.title('Customers Origin Proportion')\n",
    "plt.pie(customers_origin, labels=customers_origin.index, autopct=lambda p: f'{p:.2f}%')\n",
    "plt.show()"
   ]
  },
  {
   "cell_type": "code",
   "execution_count": null,
   "id": "4a02e842",
   "metadata": {},
   "outputs": [],
   "source": [
    "# Monthly cohort analysis groups customers into cohorts based on their first purchase month\n",
    "# and then tracks their subsequent behavior over time.\n",
    "\n",
    "# Create the cohort based on the first purchase date\n",
    "cohort_data = df.groupby('CustomerID')['InvoiceDate'].min().reset_index()\n",
    "cohort_data.rename(columns = {'InvoiceDate':'CohortDate'}, inplace=True)\n",
    "\n",
    "# Extract year and month from CohortDate and InvoiceDate\n",
    "cohort_data['CohortYearMonth'] = cohort_data['CohortDate'].dt.to_period('M')\n",
    "df['InvoiceYearMonth'] = df['InvoiceDate'].dt.to_period('M')\n",
    "\n",
    "\n",
    "# Merge the cohort dataframe with the cleaned data\n",
    "merged_cohort = pd.merge(df, cohort_data, on='CustomerID')\n",
    "\n",
    "# Calculate the difference in months for the CohortIndex\n",
    "merged_cohort['CohortIndex'] = (\n",
    "    (merged_cohort['InvoiceYearMonth'].dt.year - merged_cohort['CohortYearMonth'].dt.year) * 12 +\n",
    "    (merged_cohort['InvoiceYearMonth'].dt.month - merged_cohort['CohortYearMonth'].dt.month)\n",
    ")\n",
    "\n",
    "# Count monthly active customers from each cohort\n",
    "cohort_counts = merged_cohort.groupby(['CohortYearMonth', 'CohortIndex'])['CustomerID'].nunique().reset_index()\n",
    "\n",
    "# Create a pivot table with CohortYearMonth as rows, CohortIndex as columns, and CustomerID counts as values\n",
    "cohort_pivot = cohort_counts.pivot(index='CohortYearMonth', columns='CohortIndex', values='CustomerID')\n",
    "\n",
    "cohort_pivot.head()  # Display the first few rows of the cohort pivot table\n"
   ]
  },
  {
   "cell_type": "code",
   "execution_count": null,
   "id": "406d4ca6",
   "metadata": {},
   "outputs": [],
   "source": [
    "# To generate the retention rates as percentages, we will first need to calculate the total number of customers in the first month of the cohort.\n",
    "# Then, we will divide the number of active customers in each subsequent month by the initial cohort size.\n",
    "\n",
    "# Calculate initial cohort sizes (total number of customers in the first month of the cohort)\n",
    "cohort_sizes = cohort_pivot.iloc[:,0]\n",
    "\n",
    "# Calculate retention as a percentage\n",
    "retention_matrix = cohort_pivot.divide(cohort_sizes, axis=0)\n",
    "\n",
    "# Convert the retention matrix into percentage format\n",
    "retention_matrix_percentage = retention_matrix.round(4) * 100\n",
    "\n",
    "\n",
    "plt.figure(figsize=(18, 14))\n",
    "plt.title('Cohort Analysis - Retention Rate Percentage')\n",
    "sns.heatmap(data=retention_matrix_percentage, annot=True, fmt='.1f', cmap='Blues')\n",
    "plt.show()\n"
   ]
  },
  {
   "cell_type": "code",
   "execution_count": null,
   "id": "12557dc5",
   "metadata": {},
   "outputs": [],
   "source": [
    "# We will now plot the actual customer retention counts from the cohort analysis.\n",
    "# This is the actual number of customers from each cohort who made a purchase in subsequent months.\n",
    "\n",
    "plt.figure(figsize=(18, 14))\n",
    "plt.title('Cohort Analysis - Customer Retention Counts')\n",
    "sns.heatmap(data=cohort_pivot, annot=True, fmt='.0f', cmap='Blues')\n",
    "plt.show()\n"
   ]
  },
  {
   "cell_type": "code",
   "execution_count": null,
   "id": "83429c91",
   "metadata": {},
   "outputs": [],
   "source": [
    "# cohort_pivot.to_csv('./result/customer_retention.csv', index=True)\n",
    "# retention_matrix_percentage.to_csv('./result/customer_retention_perc.csv', index=True)"
   ]
  },
  {
   "cell_type": "code",
   "execution_count": null,
   "id": "1e1c4240",
   "metadata": {},
   "outputs": [],
   "source": [
    "# Count monthly active customers from each cohort\n",
    "cohort_revenue = merged_cohort.groupby(['CohortYearMonth', 'CohortIndex'])['TotalSales'].sum().reset_index()\n",
    "\n",
    "# Create a pivot table with CohortYearMonth as rows, CohortIndex as columns, and CustomerID counts as values\n",
    "cohort_pivot = cohort_revenue.pivot(index='CohortYearMonth', columns='CohortIndex', values='TotalSales')\n",
    "\n",
    "cohort_pivot.head()  # Display the first few rows of the cohort pivot table\n"
   ]
  },
  {
   "cell_type": "code",
   "execution_count": null,
   "id": "8338fac4",
   "metadata": {},
   "outputs": [],
   "source": [
    "# To generate the retention rates as percentages, we will first need to calculate the total number of customers in the first month of the cohort.\n",
    "# Then, we will divide the number of active customers in each subsequent month by the initial cohort size.\n",
    "\n",
    "# Calculate initial cohort sizes (total number of customers in the first month of the cohort)\n",
    "cohort_sizes = cohort_pivot.iloc[:,0]\n",
    "\n",
    "# Calculate retention as a percentage\n",
    "retention_matrix = cohort_pivot.divide(cohort_sizes, axis=0)\n",
    "\n",
    "# Convert the retention matrix into percentage format\n",
    "retention_matrix_percentage = retention_matrix.round(4) * 100\n",
    "\n",
    "\n",
    "plt.figure(figsize=(18, 14))\n",
    "plt.title('Cohort Analysis - Retention Revenue Rate Percentage')\n",
    "sns.heatmap(data=retention_matrix_percentage, annot=True, fmt='.1f', cmap='Blues')\n",
    "plt.show()\n"
   ]
  },
  {
   "cell_type": "code",
   "execution_count": null,
   "id": "04b59b66",
   "metadata": {},
   "outputs": [],
   "source": [
    "# We will now plot the actual customer retention counts from the cohort analysis.\n",
    "# This is the actual number of customers from each cohort who made a purchase in subsequent months.\n",
    "\n",
    "plt.figure(figsize=(18, 14))\n",
    "plt.title('Cohort Analysis - Cohort Customer Revenue')\n",
    "sns.heatmap(data=cohort_pivot, annot=True, fmt='.0f', cmap='Blues')\n",
    "plt.show()\n"
   ]
  },
  {
   "cell_type": "markdown",
   "id": "f226b31b",
   "metadata": {},
   "source": [
    "# RFM Analysis - Ranking Based Method"
   ]
  },
  {
   "cell_type": "code",
   "execution_count": null,
   "id": "fc62a7bd",
   "metadata": {},
   "outputs": [],
   "source": [
    "# RFM Analysis (Ranking-Based Method or Quartile method approximation)\n",
    "\n",
    "df['date'] = pd.DatetimeIndex(df['InvoiceDate']).date\n",
    "df.head()"
   ]
  },
  {
   "attachments": {
    "rfm-segment-table.png": {
     "image/png": "[encoded data removed]"
    }
   },
   "cell_type": "markdown",
   "id": "53117964",
   "metadata": {},
   "source": [
    "![rfm-segment-table.png](attachment:rfm-segment-table.png)"
   ]
  },
  {
   "cell_type": "code",
   "execution_count": null,
   "id": "0bee5a28",
   "metadata": {},
   "outputs": [],
   "source": [
    "now = df['date'].max() + pd.Timedelta(days=1)\n",
    "recency = df.groupby(['CustomerID'])['date'].max().reset_index()\n",
    "recency.columns = ['CustomerID', 'LastPurchase']\n",
    "recency['Recency'] = recency['LastPurchase'].apply(lambda x: (now - x).days)\n",
    "recency.drop('LastPurchase', axis=1, inplace=True)\n",
    "\n",
    "recency.head()"
   ]
  },
  {
   "cell_type": "code",
   "execution_count": null,
   "id": "e98babbe",
   "metadata": {},
   "outputs": [],
   "source": [
    "frequency = df.drop_duplicates(subset=['InvoiceNo', 'CustomerID'], keep='first')\\\n",
    "            .groupby(['CustomerID'])['InvoiceDate']\\\n",
    "            .count()\\\n",
    "            .reset_index()\n",
    "frequency.columns = ['CustomerID', 'Frequency']\n",
    "frequency.head()"
   ]
  },
  {
   "cell_type": "code",
   "execution_count": null,
   "id": "03e97dc5",
   "metadata": {},
   "outputs": [],
   "source": [
    "monetary = df.groupby(['CustomerID']).agg({'TotalSales':'sum'}).reset_index()\n",
    "monetary.columns = ['CustomerID','Monetary']\n",
    "monetary.head()"
   ]
  },
  {
   "cell_type": "code",
   "execution_count": null,
   "id": "9f808a74",
   "metadata": {},
   "outputs": [],
   "source": [
    "rfm_table = df.groupby(['CustomerID']).size().reset_index().drop(0, axis=1)\n",
    "\n",
    "# Merge the data\n",
    "rfm_table = rfm_table \\\n",
    "    .merge(recency, on = 'CustomerID') \\\n",
    "    .merge(frequency, on = 'CustomerID') \\\n",
    "    .merge(monetary, on = 'CustomerID')\n",
    "\n",
    "# Set CustomerID as index\n",
    "rfm_table = rfm_table.set_index('CustomerID')\n",
    "\n",
    "rfm_table.head()"
   ]
  },
  {
   "cell_type": "code",
   "execution_count": null,
   "id": "0a7670e3",
   "metadata": {},
   "outputs": [],
   "source": [
    "rfm_table.describe()"
   ]
  },
  {
   "cell_type": "markdown",
   "id": "c9b9fe6e",
   "metadata": {},
   "source": [
    "The simplest way to create customers segments from RFM Model is to use Quartiles. We assign a score from 1 to 4 to Recency, Frequency and Monetary. Four is the best/highest value, and one is the lowest/worst value. A final RFM score is calculated simply by combining individual RFM score numbers.\n",
    "\n",
    "Note: Quintiles (score from 1-5) offer better granularity, in case the business needs that but it will be more challenging to create segments since we will have 555 possible combinations. So, we will use quartiles."
   ]
  },
  {
   "cell_type": "code",
   "execution_count": null,
   "id": "1fef504c",
   "metadata": {},
   "outputs": [],
   "source": [
    "quantiles = rfm_table.quantile(q=[0.25, 0.5, 0.75])\n",
    "quantiles"
   ]
  },
  {
   "cell_type": "code",
   "execution_count": null,
   "id": "120cf6ea",
   "metadata": {},
   "outputs": [],
   "source": [
    "# Arguments (x = value, p = recency, monetary_value, frequency, d = quartiles dict)\n",
    "def RScore(x,p,d):\n",
    "    if x <= d[p][0.25]:\n",
    "        return 4\n",
    "    elif x <= d[p][0.50]:\n",
    "        return 3\n",
    "    elif x <= d[p][0.75]: \n",
    "        return 2\n",
    "    else:\n",
    "        return 1\n",
    "# Arguments (x = value, p = recency, monetary_value, frequency, k = quartiles dict)\n",
    "def FMScore(x,p,d):\n",
    "    if x <= d[p][0.25]:\n",
    "        return 1\n",
    "    elif x <= d[p][0.50]:\n",
    "        return 2\n",
    "    elif x <= d[p][0.75]: \n",
    "        return 3\n",
    "    else:\n",
    "        return 4"
   ]
  },
  {
   "cell_type": "code",
   "execution_count": null,
   "id": "0b3bdb06",
   "metadata": {},
   "outputs": [],
   "source": [
    "#create rfm segmentation table\n",
    "rfm_segmentation = rfm_table.copy()\n",
    "rfm_segmentation['R_Quartile'] = rfm_segmentation['Recency'].apply(RScore, args=('Recency',quantiles,))\n",
    "rfm_segmentation['F_Quartile'] = rfm_segmentation['Frequency'].apply(FMScore, args=('Frequency',quantiles,))\n",
    "rfm_segmentation['M_Quartile'] = rfm_segmentation['Monetary'].apply(FMScore, args=('Monetary',quantiles,))\n",
    "\n",
    "rfm_segmentation.head()"
   ]
  },
  {
   "cell_type": "code",
   "execution_count": null,
   "id": "94ad2376",
   "metadata": {},
   "outputs": [],
   "source": [
    "rfm_segmentation['RFMScore'] = rfm_segmentation.R_Quartile.map(str) \\\n",
    "                            + rfm_segmentation.F_Quartile.map(str) \\\n",
    "                            + rfm_segmentation.M_Quartile.map(str)\n",
    "rfm_segmentation.head()"
   ]
  },
  {
   "cell_type": "code",
   "execution_count": null,
   "id": "0433dda3",
   "metadata": {},
   "outputs": [],
   "source": [
    "def classification(score):\n",
    "    if score == '444':\n",
    "        return 'Best Customers'\n",
    "    if score[1] == '4':\n",
    "        return 'Loyal Customers'\n",
    "    if score[2] == '4':\n",
    "        return 'Big Spenders'\n",
    "    if score[0] == '4':\n",
    "        return 'Recent Customers'\n",
    "    if score == '233':\n",
    "        return 'Almost Lost'\n",
    "    if score[0] == '1':\n",
    "        return 'Lost Customers'\n",
    "#     if (score[0] == '1') and\\\n",
    "#         (score[1] == '2' or score[1] == '1') and\\\n",
    "#         (score[2] == '3' or score[2] == '2' or score[2] == '1' ):\n",
    "#             return 'Lost Customers'\n",
    "#     if (score[0] == '4') and\\\n",
    "#         (score[1] == '2' or score[1] == '1') and\\\n",
    "#         (score[2] == '2' or score[2] == '1'):\n",
    "#             return 'Recent Customers'\n",
    "\n",
    "\n",
    "rfm_segmentation['Cluster'] = rfm_segmentation['RFMScore'].apply(classification)\n"
   ]
  },
  {
   "cell_type": "code",
   "execution_count": null,
   "id": "0e5146a6",
   "metadata": {},
   "outputs": [],
   "source": [
    "print(\"Best Customers: \",len(rfm_segmentation[rfm_segmentation['RFMScore']=='444']))\n",
    "print('Loyal Customers: ',len(rfm_segmentation[rfm_segmentation['F_Quartile']==4]))\n",
    "print(\"Big Spenders: \",len(rfm_segmentation[rfm_segmentation['M_Quartile']==4]))\n",
    "print('Almost Lost: ', len(rfm_segmentation[rfm_segmentation['RFMScore']=='244']))\n",
    "print('Lost Customers: ',len(rfm_segmentation[rfm_segmentation['RFMScore']=='144']))\n",
    "print('Lost Cheap Customers: ',len(rfm_segmentation[rfm_segmentation['RFMScore']=='111']))"
   ]
  },
  {
   "cell_type": "code",
   "execution_count": null,
   "id": "5c0fab7f",
   "metadata": {},
   "outputs": [],
   "source": [
    "# Create a scatter plot with color-coding for segments\n",
    "plt.figure(figsize=(10, 6))\n",
    "sns.pairplot(\n",
    "    data=rfm_segmentation[['Recency', 'Frequency', 'Monetary', 'Cluster']],\n",
    "    hue='Cluster',\n",
    "    palette='Set1',  \n",
    ")\n",
    "# plt.title('Customer Segmentation Scatter Plot')\n",
    "plt.xlabel('Recency')\n",
    "plt.ylabel('Frequency')\n",
    "# plt.xticks(rotation=90)\n",
    "# plt.legend(title='Segment', loc='upper right')\n",
    "plt.show()"
   ]
  },
  {
   "cell_type": "code",
   "execution_count": null,
   "id": "a680c177",
   "metadata": {},
   "outputs": [],
   "source": [
    "# Create subplots for boxplots\n",
    "fig, axes = plt.subplots(1, 3, figsize=(15, 5))\n",
    "\n",
    "# Custom colors for the bars\n",
    "colors = ['lightblue', 'lightcoral', 'lightgreen']\n",
    "\n",
    "# Boxplot of Cluster vs. Recency\n",
    "sns.scatterplot(x='Frequency', y='Recency', hue='Cluster', data=rfm_segmentation, ax=axes[1])\n",
    "axes[1].set_title('Recency vs. Frequency')\n",
    "axes[1].set_xlabel('Frequency')\n",
    "axes[1].set_ylabel('Recency')\n",
    "axes[1].tick_params(axis='x', labelrotation=45)\n",
    "\n",
    "\n",
    "# # Boxplot of Cluster vs. Frequency\n",
    "sns.scatterplot(x='Monetary', y='Recency', hue='Cluster', data=rfm_segmentation, ax=axes[0])\n",
    "axes[0].set_title('Recency vs. Monetary')\n",
    "axes[0].set_xlabel('Monetary')\n",
    "axes[0].set_ylabel('Recency')\n",
    "axes[0].tick_params(axis='x', labelrotation=45)\n",
    "\n",
    "\n",
    "# # Boxplot of Cluster vs. Monetary\n",
    "sns.scatterplot(x='Frequency', y='Monetary',hue='Cluster', data=rfm_segmentation, ax=axes[2],)\n",
    "axes[2].set_title('Monetary vs. Frequency')\n",
    "axes[2].set_xlabel('Frequency')\n",
    "axes[2].set_ylabel('Monetary')\n",
    "axes[2].tick_params(axis='x', labelrotation=45)\n",
    "\n",
    "\n",
    "\n",
    "# Adjust layout\n",
    "plt.tight_layout()\n",
    "\n",
    "# Show the boxplots\n",
    "plt.show()"
   ]
  },
  {
   "cell_type": "code",
   "execution_count": null,
   "id": "a0ea54ff",
   "metadata": {},
   "outputs": [],
   "source": [
    "# Create a pivot table with the reordered segment order\n",
    "pivot_table = rfm_segmentation.pivot_table(\n",
    "    values=['Recency', 'Frequency', 'Monetary'],\n",
    "    index='Cluster',\n",
    "    aggfunc='mean'\n",
    ")\n",
    "\n",
    "# Create a heatmap\n",
    "plt.figure(figsize=(10, 6))\n",
    "sns.heatmap(\n",
    "    pivot_table,\n",
    "    annot=True,  # Display values in each cell\n",
    "    cmap='YlGnBu',  # Choose a color map\n",
    "    fmt='.2f',  # Format for displaying values\n",
    "    linewidths=0.5,  # Add linewidths between cells\n",
    ")\n",
    "plt.title('Average RFM Values by Cluster')\n",
    "plt.xlabel('RFM Dimension')\n",
    "plt.ylabel('Segment')\n",
    "plt.show()"
   ]
  },
  {
   "cell_type": "code",
   "execution_count": null,
   "id": "1e6338a3",
   "metadata": {},
   "outputs": [],
   "source": [
    "# Create subplots for boxplots\n",
    "fig, axes = plt.subplots(1, 3, figsize=(15, 5))\n",
    "\n",
    "# Custom colors for the bars\n",
    "colors = ['lightblue', 'lightcoral', 'lightgreen']\n",
    "\n",
    "# Boxplot of Cluster vs. Recency\n",
    "sns.boxplot(x='Cluster', y='Recency', data=rfm_segmentation, ax=axes[1], palette=colors)\n",
    "axes[1].set_title('Cluster vs. Recency')\n",
    "axes[1].set_xlabel('Cluster')\n",
    "axes[1].set_ylabel('Recency')\n",
    "axes[1].tick_params(axis='x', labelrotation=45)\n",
    "\n",
    "\n",
    "# Boxplot of Cluster vs. Frequency\n",
    "sns.boxplot(x='Cluster', y='Frequency', data=rfm_segmentation, ax=axes[0], palette=colors)\n",
    "axes[0].set_title('Cluster vs. Frequency')\n",
    "axes[0].set_xlabel('Cluster')\n",
    "axes[0].set_ylabel('Frequency')\n",
    "axes[0].tick_params(axis='x', labelrotation=45)\n",
    "\n",
    "\n",
    "# Boxplot of Cluster vs. Monetary\n",
    "sns.boxplot(x='Cluster', y='Monetary', data=rfm_segmentation, ax=axes[2], palette=colors)\n",
    "axes[2].set_title('Cluster vs. Monetary')\n",
    "axes[2].set_xlabel('Cluster')\n",
    "axes[2].set_ylabel('Monetary')\n",
    "axes[2].tick_params(axis='x', labelrotation=45)\n",
    "\n",
    "\n",
    "\n",
    "# Adjust layout\n",
    "plt.tight_layout()\n",
    "\n",
    "# Show the boxplots\n",
    "plt.show()"
   ]
  },
  {
   "cell_type": "markdown",
   "id": "1782d6c0",
   "metadata": {},
   "source": [
    "# RFM Analysis - KMeans Approximation"
   ]
  },
  {
   "cell_type": "code",
   "execution_count": null,
   "id": "74ad3e27",
   "metadata": {},
   "outputs": [],
   "source": [
    "# RFM with K-Means\n",
    "\n",
    "# plot\n",
    "fig, axes = plt.subplots(3, 1, figsize=(15, 15))\n",
    "sns.distplot(rfm_table.Recency , color=\"dodgerblue\", ax=axes[0], axlabel='Recency')\n",
    "sns.distplot(rfm_table.Frequency , color=\"deeppink\", ax=axes[1], axlabel='Frequency')\n",
    "sns.distplot(rfm_table.Monetary , color=\"gold\", ax=axes[2], axlabel='Monetary')\n",
    "# plt.xlim(50,75);\n",
    "plt.show();"
   ]
  },
  {
   "cell_type": "code",
   "execution_count": null,
   "id": "563f28e2",
   "metadata": {},
   "outputs": [],
   "source": [
    "rfm_table.describe()"
   ]
  },
  {
   "cell_type": "markdown",
   "id": "5bf441e7",
   "metadata": {},
   "source": [
    "Here we can observe that the data is highly skewed. So we have to transform and scale the data first because K-Means assumes that the variables should have a symmetric distributions(not skewed) and they should have same average values as well as same variance."
   ]
  },
  {
   "cell_type": "code",
   "execution_count": null,
   "id": "21d0b4ee",
   "metadata": {},
   "outputs": [],
   "source": [
    "# Scale the data\n",
    "\n",
    "scaler = StandardScaler()\n",
    "rfm_table_scaled = scaler.fit_transform(rfm_table)\n",
    "\n",
    "rfm_table_scaled = pd.DataFrame(rfm_table_scaled, columns = rfm_table.columns, index = rfm_table.index)\n",
    "\n",
    "rfm_table_scaled.head()"
   ]
  },
  {
   "cell_type": "code",
   "execution_count": null,
   "id": "c7cd5c76",
   "metadata": {},
   "outputs": [],
   "source": [
    "rfm_table_scaled.describe()"
   ]
  },
  {
   "cell_type": "code",
   "execution_count": null,
   "id": "c435fda2",
   "metadata": {},
   "outputs": [],
   "source": [
    "# find WCSS\n",
    "from sklearn.cluster import KMeans\n",
    "import matplotlib.pyplot as plt\n",
    "wcss = []\n",
    "for i in range(1,11):\n",
    "    kmeans = KMeans(n_clusters=i, init='k-means++')\n",
    "    kmeans.fit(rfm_table_scaled)\n",
    "    wcss.append(kmeans.inertia_)\n",
    "\n",
    "# plot elbow graph\n",
    "plt.plot(range(1,11),wcss,marker='o');"
   ]
  },
  {
   "cell_type": "markdown",
   "id": "577651ba",
   "metadata": {},
   "source": [
    "From the elbow graph, it seems that good number of cluster would be either 2 or 3 as after that, its a smooth curve i.e. no change of orientation. but to overcome that confusion, we will use silhouette score method to find the optimum number of clusters because it is often much better in figuring out the number of valid clusters than the elbow method"
   ]
  },
  {
   "cell_type": "code",
   "execution_count": null,
   "id": "862fb8ce",
   "metadata": {},
   "outputs": [],
   "source": [
    "from sklearn.metrics import silhouette_score\n",
    "wcss_silhouette = []\n",
    "for i in range(2,12):\n",
    "    km = KMeans(n_clusters=i, random_state=0,init='k-means++').fit(rfm_table_scaled)\n",
    "    preds = km.predict(rfm_table_scaled)    \n",
    "    silhouette = silhouette_score(rfm_table_scaled,preds)\n",
    "    wcss_silhouette.append(silhouette)\n",
    "    print(\"Silhouette score for number of cluster(s) {}: {}\".format(i,silhouette))\n",
    "\n",
    "plt.figure(figsize=(10,5))\n",
    "plt.title(\"The silhouette coefficient method \\nfor determining number of clusters\\n\",fontsize=16)\n",
    "plt.scatter(x=[i for i in range(2,12)],y=wcss_silhouette,s=150,edgecolor='k')\n",
    "plt.grid(True)\n",
    "plt.xlabel(\"Number of clusters\",fontsize=14)\n",
    "plt.ylabel(\"Silhouette score\",fontsize=15)\n",
    "plt.xticks([i for i in range(2,12)],fontsize=14)\n",
    "plt.yticks(fontsize=15)\n",
    "plt.show()"
   ]
  },
  {
   "cell_type": "code",
   "execution_count": null,
   "id": "d26ed0df",
   "metadata": {},
   "outputs": [],
   "source": [
    "kmeans = KMeans(n_clusters=3, random_state=1, init='k-means++')\n",
    "kmeans.fit(rfm_table_scaled)\n",
    "cluster_labels = kmeans.labels_"
   ]
  },
  {
   "cell_type": "code",
   "execution_count": null,
   "id": "15b51a2d",
   "metadata": {},
   "outputs": [],
   "source": [
    "kmeans"
   ]
  },
  {
   "cell_type": "code",
   "execution_count": null,
   "id": "fe2fadea",
   "metadata": {},
   "outputs": [],
   "source": [
    "#create rfm segmentation table\n",
    "rfm_segmentation = rfm_table.copy()\n",
    "rfm_segmentation['Cluster'] = kmeans.predict(rfm_table_scaled)\n",
    "rfm_segmentation"
   ]
  },
  {
   "cell_type": "code",
   "execution_count": null,
   "id": "58788b86",
   "metadata": {},
   "outputs": [],
   "source": [
    "rfm_segmentation.groupby('Cluster').mean()"
   ]
  },
  {
   "cell_type": "code",
   "execution_count": null,
   "id": "3783dd6f",
   "metadata": {},
   "outputs": [],
   "source": [
    "# Create a pivot table with the reordered segment order\n",
    "pivot_table = rfm_segmentation.pivot_table(\n",
    "    values=['Recency', 'Frequency', 'Monetary'],\n",
    "    index='Cluster',\n",
    "    aggfunc='mean'\n",
    ")\n",
    "\n",
    "# Create a heatmap\n",
    "plt.figure(figsize=(10, 6))\n",
    "sns.heatmap(\n",
    "    pivot_table,\n",
    "    annot=True,  # Display values in each cell\n",
    "    cmap='YlGnBu',  # Choose a color map\n",
    "    fmt='.2f',  # Format for displaying values\n",
    "    linewidths=0.5,  # Add linewidths between cells\n",
    ")\n",
    "plt.title('Average RFM Values by Cluster')\n",
    "plt.xlabel('RFM Dimension')\n",
    "plt.ylabel('Segment')\n",
    "plt.show()"
   ]
  },
  {
   "cell_type": "code",
   "execution_count": null,
   "id": "928ee3f6",
   "metadata": {},
   "outputs": [],
   "source": [
    "# Create subplots for boxplots\n",
    "fig, axes = plt.subplots(1, 3, figsize=(15, 5))\n",
    "\n",
    "# Custom colors for the bars\n",
    "colors = ['lightblue', 'lightcoral', 'lightgreen']\n",
    "\n",
    "# Boxplot of Cluster vs. Recency\n",
    "sns.scatterplot(x='Frequency', y='Recency', hue='Cluster', data=rfm_segmentation, ax=axes[1])\n",
    "axes[1].set_title('Recency vs. Frequency')\n",
    "axes[1].set_xlabel('Frequency')\n",
    "axes[1].set_ylabel('Recency')\n",
    "axes[1].tick_params(axis='x', labelrotation=45)\n",
    "\n",
    "\n",
    "# # Boxplot of Cluster vs. Frequency\n",
    "sns.scatterplot(x='Monetary', y='Recency', hue='Cluster', data=rfm_segmentation, ax=axes[0])\n",
    "axes[0].set_title('Recency vs. Monetary')\n",
    "axes[0].set_xlabel('Monetary')\n",
    "axes[0].set_ylabel('Recency')\n",
    "axes[0].tick_params(axis='x', labelrotation=45)\n",
    "\n",
    "\n",
    "# # Boxplot of Cluster vs. Monetary\n",
    "sns.scatterplot(x='Frequency', y='Monetary',hue='Cluster', data=rfm_segmentation, ax=axes[2],)\n",
    "axes[2].set_title('Monetary vs. Frequency')\n",
    "axes[2].set_xlabel('Frequency')\n",
    "axes[2].set_ylabel('Monetary')\n",
    "axes[2].tick_params(axis='x', labelrotation=45)\n",
    "\n",
    "\n",
    "\n",
    "# Adjust layout\n",
    "plt.tight_layout()\n",
    "\n",
    "# Show the boxplots\n",
    "plt.show()"
   ]
  },
  {
   "cell_type": "code",
   "execution_count": null,
   "id": "56582082",
   "metadata": {},
   "outputs": [],
   "source": [
    "# Create subplots for boxplots\n",
    "fig, axes = plt.subplots(1, 3, figsize=(15, 5))\n",
    "\n",
    "# Custom colors for the bars\n",
    "colors = ['lightblue', 'lightcoral', 'lightgreen']\n",
    "\n",
    "# Boxplot of Cluster vs. Recency\n",
    "sns.boxplot(x='Cluster', y='Recency', data=rfm_segmentation, ax=axes[1], palette=colors)\n",
    "axes[1].set_title('Cluster vs. Recency')\n",
    "axes[1].set_xlabel('Cluster')\n",
    "axes[1].set_ylabel('Recency')\n",
    "\n",
    "# Boxplot of Cluster vs. Frequency\n",
    "sns.boxplot(x='Cluster', y='Frequency', data=rfm_segmentation, ax=axes[0], palette=colors)\n",
    "axes[0].set_title('Cluster vs. Frequency')\n",
    "axes[0].set_xlabel('Cluster')\n",
    "axes[0].set_ylabel('Frequency')\n",
    "\n",
    "# Boxplot of Cluster vs. Monetary\n",
    "sns.boxplot(x='Cluster', y='Monetary', data=rfm_segmentation, ax=axes[2], palette=colors)\n",
    "axes[2].set_title('Cluster vs. Monetary')\n",
    "axes[2].set_xlabel('Cluster')\n",
    "axes[2].set_ylabel('Monetary')\n",
    "\n",
    "# Adjust layout\n",
    "plt.tight_layout()\n",
    "\n",
    "# Show the boxplots\n",
    "plt.show()"
   ]
  }
 ],
 "metadata": {
  "kernelspec": {
   "display_name": "Python 3 (ipykernel)",
   "language": "python",
   "name": "python3"
  },
  "language_info": {
   "codemirror_mode": {
    "name": "ipython",
    "version": 3
   },
   "file_extension": ".py",
   "mimetype": "text/x-python",
   "name": "python",
   "nbconvert_exporter": "python",
   "pygments_lexer": "ipython3",
   "version": "3.11.4"
  }
 },
 "nbformat": 4,
 "nbformat_minor": 5
}
